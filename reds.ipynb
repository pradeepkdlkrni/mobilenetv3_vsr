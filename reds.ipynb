{
 "cells": [
  {
   "cell_type": "code",
   "execution_count": 2,
   "id": "deff5c57-a0a3-4b67-aecc-b3b89da6067d",
   "metadata": {},
   "outputs": [
    {
     "name": "stdout",
     "output_type": "stream",
     "text": [
      "✅ REDS dataset re-split completed.\n"
     ]
    }
   ],
   "source": [
    "import os\n",
    "import shutil\n",
    "import random\n",
    "from pathlib import Path\n",
    "\n",
    "# Root of dataset\n",
    "root = Path(r\"F:\\downloads\\reds\\reds_dataset_use\")\n",
    "\n",
    "# Original data\n",
    "original_train_hr = root / \"train\" / \"hr\"\n",
    "original_train_lr = root / \"train\" / \"lr\"\n",
    "original_val_hr = root / \"val\" / \"hr\"\n",
    "original_val_lr = root / \"val\" / \"lr\"\n",
    "\n",
    "# New structure\n",
    "new_train_hr = root / \"new_train\" / \"hr\"\n",
    "new_train_lr = root / \"new_train\" / \"lr\"\n",
    "new_val_hr = root / \"new_val\" / \"hr\"\n",
    "new_val_lr = root / \"new_val\" / \"lr\"\n",
    "test_hr = root / \"test\" / \"hr\"\n",
    "test_lr = root / \"test\" / \"lr\"\n",
    "\n",
    "# Create dirs\n",
    "for p in [new_train_hr, new_train_lr, new_val_hr, new_val_lr, test_hr, test_lr]:\n",
    "    p.mkdir(parents=True, exist_ok=True)\n",
    "\n",
    "# Split 90/10 from original train\n",
    "all_seqs = sorted(os.listdir(original_train_hr))\n",
    "random.seed(42)\n",
    "random.shuffle(all_seqs)\n",
    "split_idx = int(0.9 * len(all_seqs))\n",
    "train_seqs = all_seqs[:split_idx]\n",
    "val_seqs = all_seqs[split_idx:]\n",
    "\n",
    "def copy_sequence_folders(seqs, src_hr, src_lr, dst_hr, dst_lr):\n",
    "    for seq in seqs:\n",
    "        shutil.copytree(src_hr / seq, dst_hr / seq, dirs_exist_ok=True)\n",
    "        shutil.copytree(src_lr / seq, dst_lr / seq, dirs_exist_ok=True)\n",
    "\n",
    "# Copy data\n",
    "copy_sequence_folders(train_seqs, original_train_hr, original_train_lr, new_train_hr, new_train_lr)\n",
    "copy_sequence_folders(val_seqs, original_train_hr, original_train_lr, new_val_hr, new_val_lr)\n",
    "\n",
    "# Move current val to test\n",
    "shutil.copytree(original_val_hr, test_hr, dirs_exist_ok=True)\n",
    "shutil.copytree(original_val_lr, test_lr, dirs_exist_ok=True)\n",
    "\n",
    "print(\"✅ REDS dataset re-split completed.\")\n"
   ]
  },
  {
   "cell_type": "code",
   "execution_count": 3,
   "id": "6b4c89d6-ea7a-4f26-a24d-a2c2a6830d89",
   "metadata": {},
   "outputs": [
    {
     "name": "stdout",
     "output_type": "stream",
     "text": [
      "done:\n"
     ]
    }
   ],
   "source": [
    "print(\"done:\")"
   ]
  },
  {
   "cell_type": "code",
   "execution_count": null,
   "id": "6f5a325e-3e3a-46fb-bca2-bc6ce9ed53a5",
   "metadata": {},
   "outputs": [],
   "source": []
  }
 ],
 "metadata": {
  "kernelspec": {
   "display_name": "Python 3 (ipykernel)",
   "language": "python",
   "name": "python3"
  },
  "language_info": {
   "codemirror_mode": {
    "name": "ipython",
    "version": 3
   },
   "file_extension": ".py",
   "mimetype": "text/x-python",
   "name": "python",
   "nbconvert_exporter": "python",
   "pygments_lexer": "ipython3",
   "version": "3.9.21"
  }
 },
 "nbformat": 4,
 "nbformat_minor": 5
}
